{
 "cells": [
  {
   "cell_type": "markdown",
   "id": "initial_id",
   "metadata": {
    "collapsed": true
   },
   "source": [
    "## Positional Encoding in \"Attention is All You Need\"\n",
    "\n",
    "The paper \"Attention is All You Need\" introduces a method called **positional encoding** to address the lack of sequential information in the Transformer model. This method provides a way of representing the position of words in a sentence.\n",
    "\n",
    "The positional encoding is added to the input embeddings. These added values are determined by a function that considers the position and the dimension of the word. The function for positional encoding is as follows:\n",
    "\n",
    "$$PE_{(pos, 2i)} = sin(pos / 10000^{2i / d_{model}})$$\n",
    "$$PE_{(pos, 2i+1)} = cos(pos / 10000^{2i / d_{model}})$$\n",
    "\n",
    "Where:\n",
    "- $pos$ is the position of the word in the sentence.\n",
    "- $i$ is the dimension.\n",
    "- $d_{model}$ is the model's dimension.\n",
    "\n",
    "The purpose of this function is to create a unique encoding for each word depending on its position in the sentence. This encoding can then be learned and used by the model to understand the order of words in a sentence."
   ]
  },
  {
   "cell_type": "code",
   "execution_count": null,
   "id": "22e1f389",
   "metadata": {},
   "outputs": [],
   "source": [
    "import numpy as np\n",
    "import plotly.graph_objects as go\n",
    "from plotly.subplots import make_subplots"
   ]
  },
  {
   "cell_type": "code",
   "execution_count": null,
   "id": "9c41bee1",
   "metadata": {},
   "outputs": [],
   "source": [
    "# Constants\n",
    "d_model = 128\n",
    "seq_length = 64\n",
    "\n",
    "# Positional encoding function\n",
    "def positional_encoding(pos, i, d_model):\n",
    "    angle_rates = 1 / np.power(10000, (2 * (i//2)) / np.float32(d_model))\n",
    "    return pos * angle_rates\n",
    "\n",
    "# Generate a sequence of positions\n",
    "positions = np.arange(seq_length)[:, np.newaxis]\n",
    "dimensions = np.arange(d_model)[np.newaxis, :]\n",
    "\n",
    "# Apply the positional encoding\n",
    "sines = np.sin(positional_encoding(positions, dimensions, d_model))\n",
    "cosines = np.cos(positional_encoding(positions, dimensions, d_model))\n",
    "\n",
    "# Create subplot\n",
    "fig = make_subplots(rows=1, cols=2,\n",
    "                    subplot_titles=('Sine Encoding', 'Cosine Encoding'),\n",
    "                    specs=[[{'type': 'surface'}, {'type': 'surface'}]])\n",
    "\n",
    "# Add traces\n",
    "fig.add_trace(go.Surface(z=sines, colorscale='Viridis'), row=1, col=1)\n",
    "fig.add_trace(go.Surface(z=cosines, colorscale='Viridis'), row=1, col=2)\n",
    "\n",
    "# Update layout\n",
    "fig.update_layout(\n",
    "    title='Positional Encoding',\n",
    "    width=1600,\n",
    "    height=600)\n",
    "\n",
    "# Update x, y and z axis titles for both subplots\n",
    "for i in range(1, 3):\n",
    "    fig.update_scenes(\n",
    "        xaxis_title='Dimension',\n",
    "        yaxis_title='Position',\n",
    "        zaxis_title='Encoding Value',\n",
    "        row=1, col=i)\n",
    "\n",
    "fig.show()"
   ]
  },
  {
   "cell_type": "code",
   "execution_count": null,
   "id": "feed2220",
   "metadata": {},
   "outputs": [],
   "source": [
    "# Initialize an empty array for the combined encoding\n",
    "combined = np.zeros((seq_length, d_model))\n",
    "\n",
    "# Fill in the sine and cosine encodings at the appropriate indices\n",
    "combined[:, 0::2] = sines[:, 0::2]  # Sine encode even indices\n",
    "combined[:, 1::2] = cosines[:, 1::2]  # Cosine encode odd indices\n",
    "\n",
    "# Create a new subplot for the combined encoding\n",
    "fig_combined = make_subplots(rows=1, cols=1,\n",
    "                             subplot_titles=('Combined Sine and Cosine Encoding',),\n",
    "                             specs=[[{'type': 'surface'}]])\n",
    "\n",
    "# Add a trace for the combined encoding\n",
    "fig_combined.add_trace(go.Surface(z=combined, colorscale='Viridis'), row=1, col=1)\n",
    "\n",
    "# Update layout\n",
    "fig_combined.update_layout(\n",
    "    title='Combined Positional Encoding',\n",
    "    width=800,\n",
    "    height=600)\n",
    "\n",
    "# Update x, y and z axis titles\n",
    "fig_combined.update_scenes(\n",
    "    xaxis_title='Dimension',\n",
    "    yaxis_title='Position',\n",
    "    zaxis_title='Encoding Value',\n",
    "    row=1, col=1)\n",
    "\n",
    "fig_combined.show()"
   ]
  }
 ],
 "metadata": {
  "kernelspec": {
   "display_name": "Python 3",
   "language": "python",
   "name": "python3"
  },
  "language_info": {
   "codemirror_mode": {
    "name": "ipython",
    "version": 3
   },
   "file_extension": ".py",
   "mimetype": "text/x-python",
   "name": "python",
   "nbconvert_exporter": "python",
   "pygments_lexer": "ipython3",
   "version": "3.10.13"
  }
 },
 "nbformat": 4,
 "nbformat_minor": 5
}
